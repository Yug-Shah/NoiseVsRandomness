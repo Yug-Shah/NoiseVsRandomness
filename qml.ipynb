{
  "nbformat": 4,
  "nbformat_minor": 0,
  "metadata": {
    "colab": {
      "provenance": []
    },
    "kernelspec": {
      "name": "python3",
      "display_name": "Python 3"
    },
    "language_info": {
      "name": "python"
    }
  },
  "cells": [
    {
      "cell_type": "code",
      "source": [
        "!pip install pennylane"
      ],
      "metadata": {
        "colab": {
          "base_uri": "https://localhost:8080/"
        },
        "id": "1Wubf3ACdl3N",
        "outputId": "9d4f3ccd-3fb2-4912-e8eb-6ac963aa5d64"
      },
      "execution_count": 2,
      "outputs": [
        {
          "output_type": "stream",
          "name": "stdout",
          "text": [
            "Collecting pennylane\n",
            "  Downloading PennyLane-0.35.1-py3-none-any.whl (1.6 MB)\n",
            "\u001b[2K     \u001b[90m━━━━━━━━━━━━━━━━━━━━━━━━━━━━━━━━━━━━━━━━\u001b[0m \u001b[32m1.6/1.6 MB\u001b[0m \u001b[31m8.6 MB/s\u001b[0m eta \u001b[36m0:00:00\u001b[0m\n",
            "\u001b[?25hRequirement already satisfied: numpy in /usr/local/lib/python3.10/dist-packages (from pennylane) (1.25.2)\n",
            "Requirement already satisfied: scipy in /usr/local/lib/python3.10/dist-packages (from pennylane) (1.11.4)\n",
            "Requirement already satisfied: networkx in /usr/local/lib/python3.10/dist-packages (from pennylane) (3.3)\n",
            "Collecting rustworkx (from pennylane)\n",
            "  Downloading rustworkx-0.14.2-cp310-cp310-manylinux_2_17_x86_64.manylinux2014_x86_64.whl (2.1 MB)\n",
            "\u001b[2K     \u001b[90m━━━━━━━━━━━━━━━━━━━━━━━━━━━━━━━━━━━━━━━━\u001b[0m \u001b[32m2.1/2.1 MB\u001b[0m \u001b[31m39.6 MB/s\u001b[0m eta \u001b[36m0:00:00\u001b[0m\n",
            "\u001b[?25hRequirement already satisfied: autograd in /usr/local/lib/python3.10/dist-packages (from pennylane) (1.6.2)\n",
            "Requirement already satisfied: toml in /usr/local/lib/python3.10/dist-packages (from pennylane) (0.10.2)\n",
            "Requirement already satisfied: appdirs in /usr/local/lib/python3.10/dist-packages (from pennylane) (1.4.4)\n",
            "Collecting semantic-version>=2.7 (from pennylane)\n",
            "  Downloading semantic_version-2.10.0-py2.py3-none-any.whl (15 kB)\n",
            "Collecting autoray>=0.6.1 (from pennylane)\n",
            "  Downloading autoray-0.6.9-py3-none-any.whl (49 kB)\n",
            "\u001b[2K     \u001b[90m━━━━━━━━━━━━━━━━━━━━━━━━━━━━━━━━━━━━━━━━\u001b[0m \u001b[32m49.8/49.8 kB\u001b[0m \u001b[31m5.7 MB/s\u001b[0m eta \u001b[36m0:00:00\u001b[0m\n",
            "\u001b[?25hRequirement already satisfied: cachetools in /usr/local/lib/python3.10/dist-packages (from pennylane) (5.3.3)\n",
            "Collecting pennylane-lightning>=0.35 (from pennylane)\n",
            "  Downloading PennyLane_Lightning-0.35.1-cp310-cp310-manylinux_2_17_x86_64.manylinux2014_x86_64.whl (18.5 MB)\n",
            "\u001b[2K     \u001b[90m━━━━━━━━━━━━━━━━━━━━━━━━━━━━━━━━━━━━━━━━\u001b[0m \u001b[32m18.5/18.5 MB\u001b[0m \u001b[31m42.0 MB/s\u001b[0m eta \u001b[36m0:00:00\u001b[0m\n",
            "\u001b[?25hRequirement already satisfied: requests in /usr/local/lib/python3.10/dist-packages (from pennylane) (2.31.0)\n",
            "Requirement already satisfied: typing-extensions in /usr/local/lib/python3.10/dist-packages (from pennylane) (4.11.0)\n",
            "Requirement already satisfied: future>=0.15.2 in /usr/local/lib/python3.10/dist-packages (from autograd->pennylane) (0.18.3)\n",
            "Requirement already satisfied: charset-normalizer<4,>=2 in /usr/local/lib/python3.10/dist-packages (from requests->pennylane) (3.3.2)\n",
            "Requirement already satisfied: idna<4,>=2.5 in /usr/local/lib/python3.10/dist-packages (from requests->pennylane) (3.6)\n",
            "Requirement already satisfied: urllib3<3,>=1.21.1 in /usr/local/lib/python3.10/dist-packages (from requests->pennylane) (2.0.7)\n",
            "Requirement already satisfied: certifi>=2017.4.17 in /usr/local/lib/python3.10/dist-packages (from requests->pennylane) (2024.2.2)\n",
            "Installing collected packages: semantic-version, rustworkx, autoray, pennylane-lightning, pennylane\n",
            "Successfully installed autoray-0.6.9 pennylane-0.35.1 pennylane-lightning-0.35.1 rustworkx-0.14.2 semantic-version-2.10.0\n"
          ]
        }
      ]
    },
    {
      "cell_type": "code",
      "execution_count": 1,
      "metadata": {
        "id": "2LGWQPu6dY00"
      },
      "outputs": [],
      "source": [
        "import pennylane as qml\n",
        "from pennylane import numpy as np\n",
        "#from pennylane.optimize import NesterovMomentumOptimizer\n",
        "\n",
        "#100 qubits required!!!!!!!!\n",
        "num_qubits = 18\n",
        "dev = qml.device(\"default.qubit\")\n",
        "def layer(layer_weights):\n",
        "    for wire in range(num_qubits):\n",
        "        qml.Rot(*layer_weights[wire], wires=wire)\n",
        "\n",
        "    for wires in range(num_qubits-1):\n",
        "        qml.CNOT([wires, wires+1])\n",
        "    qml.CNOT([num_qubits-1,0])\n",
        "\n",
        "def state_preparation(x):\n",
        "    qml.BasisState(x, wires=list(range(num_qubits)))\n",
        "\n",
        "@qml.qnode(dev)\n",
        "def circuit(weights, x):\n",
        "    state_preparation(x)\n",
        "\n",
        "    for layer_weights in weights:\n",
        "        layer(layer_weights)\n",
        "\n",
        "    return qml.expval(qml.PauliZ(0))"
      ]
    },
    {
      "cell_type": "code",
      "source": [
        "def variational_classifier(weights, bias, x):\n",
        "    return circuit(weights, x) + bias\n",
        "\n",
        "def square_loss(labels, predictions):\n",
        "    # We use a call to qml.math.stack to allow subtracting the arrays directly\n",
        "    return np.mean((labels - qml.math.stack(predictions)) ** 2)\n",
        "\n",
        "def accuracy(labels, predictions):\n",
        "    acc = sum(abs(l - p) < 1e-5 for l, p in zip(labels, predictions))\n",
        "    acc = acc / len(labels)\n",
        "    return acc\n",
        "\n",
        "def cost(weights, bias, X, Y):\n",
        "    predictions = [variational_classifier(weights, bias, x) for x in X]\n",
        "    return square_loss(Y, predictions)"
      ],
      "metadata": {
        "id": "BXlgps5MdkEm"
      },
      "execution_count": 2,
      "outputs": []
    },
    {
      "cell_type": "code",
      "source": [],
      "metadata": {
        "id": "YRLemWyPdvwh"
      },
      "execution_count": 2,
      "outputs": []
    },
    {
      "cell_type": "code",
      "source": [],
      "metadata": {
        "id": "B3aspFe1d2GG"
      },
      "execution_count": 2,
      "outputs": []
    },
    {
      "cell_type": "code",
      "source": [
        "def binary_to_bits(binary_list):\n",
        "    return [[int(i,2) for i in str(binary_string)[:num_qubits]] for binary_string in binary_list]\n",
        "c1 = np.array(binary_to_bits(np.load(\"machine1.npy\")))\n",
        "y1 = -np.ones(len(c1))\n",
        "c2 = np.array(binary_to_bits(np.load(\"machine2.npy\")))\n",
        "c1 = np.concatenate((c1,c2))\n",
        "\n",
        "y1 = np.concatenate((y1,np.ones(len(c2)))).astype(int)\n",
        "def one_hot(y, num_classes):\n",
        "    return np.eye(num_classes)[y]\n",
        "\n",
        "# Convert labels to one-hot encoding\n",
        "y_data_one_hot = one_hot(y1, 2)"
      ],
      "metadata": {
        "id": "30piuYnVeZfh"
      },
      "execution_count": 3,
      "outputs": []
    },
    {
      "cell_type": "code",
      "source": [],
      "metadata": {
        "id": "sQeLssTrkjm4"
      },
      "execution_count": 3,
      "outputs": []
    },
    {
      "cell_type": "code",
      "source": [
        "\n",
        "indices = np.arange(len(y1))\n",
        "np.random.shuffle(indices)\n",
        "train_indices = indices[:1600]\n",
        "test_indices = indices[1600:]\n",
        "X_train = c1[train_indices]\n",
        "y_train = y1[train_indices]\n",
        "\n",
        "X_test = c1[test_indices]\n",
        "y_test = y1[test_indices]\n",
        "del c2, y1, c1, indices, train_indices, test_indices"
      ],
      "metadata": {
        "id": "-nso-Mb2es-r"
      },
      "execution_count": 4,
      "outputs": []
    },
    {
      "cell_type": "code",
      "source": [
        "np.random.seed(0)\n",
        "\n",
        "num_layers = 2\n",
        "weights_init = 0.01 * np.random.randn( num_layers, num_qubits, 3, requires_grad=True)\n",
        "bias_init = np.array(0.0, requires_grad=True)\n",
        "y_train_one_hot = one_hot(y_train,2)\n",
        "opt = qml.AdamOptimizer()\n",
        "batch_size = 5\n",
        "weights = weights_init\n",
        "bias = bias_init\n",
        "print(weights.shape, bias.shape)\n",
        "for it in range(10):\n",
        "    for j in range(1):\n",
        "        # Update the weights by one optimizer step, using only a limited batch of data\n",
        "        batch_index = np.random.randint(0, len(X_train), (batch_size,))\n",
        "        X_batch = np.array(X_train)[batch_index]\n",
        "        Y_batch = y_train_one_hot[:,j][batch_index]\n",
        "        weights, bias = opt.step(cost, weights, bias, X=X_batch, Y=Y_batch)\n",
        "\n",
        "        # Compute accuracy\n",
        "        predictions = [np.sign(variational_classifier(weights, bias, x)) for x in X_train]\n",
        "\n",
        "        current_cost = cost(weights, bias, X_train, y_train)\n",
        "        acc = accuracy(y_train, predictions)\n",
        "\n",
        "        print(f\"Iter: {it+1:4d} | Cost: {current_cost:0.7f} | Accuracy: {acc:0.7f}\")"
      ],
      "metadata": {
        "colab": {
          "base_uri": "https://localhost:8080/"
        },
        "id": "LfB099pfhm0t",
        "outputId": "4f1aae79-eb62-467b-83b6-deac3a9d03db"
      },
      "execution_count": 5,
      "outputs": [
        {
          "output_type": "stream",
          "name": "stdout",
          "text": [
            "(2, 18, 3) ()\n",
            "Iter:    1 | Cost: 1.9794926 | Accuracy: 0.5025000\n",
            "Iter:    2 | Cost: 1.9678271 | Accuracy: 0.5025000\n",
            "Iter:    3 | Cost: 1.9518590 | Accuracy: 0.5025000\n",
            "Iter:    4 | Cost: 1.9316566 | Accuracy: 0.5025000\n",
            "Iter:    5 | Cost: 1.9073264 | Accuracy: 0.5025000\n",
            "Iter:    6 | Cost: 1.8790494 | Accuracy: 0.5025000\n",
            "Iter:    7 | Cost: 1.8470826 | Accuracy: 0.5025000\n",
            "Iter:    8 | Cost: 1.8109486 | Accuracy: 0.5025000\n",
            "Iter:    9 | Cost: 1.7720239 | Accuracy: 0.5025000\n",
            "Iter:   10 | Cost: 1.7305123 | Accuracy: 0.5025000\n"
          ]
        }
      ]
    },
    {
      "cell_type": "code",
      "source": [
        "predictions = [np.sign(variational_classifier(weights, bias, x)) for x in X_test]\n",
        "acc = accuracy(y_test, predictions)"
      ],
      "metadata": {
        "id": "SaV8_1WGN9dP"
      },
      "execution_count": 6,
      "outputs": []
    },
    {
      "cell_type": "code",
      "source": [
        "print(\"Accuracy:\", acc)"
      ],
      "metadata": {
        "colab": {
          "base_uri": "https://localhost:8080/"
        },
        "id": "kxecZXz9lw13",
        "outputId": "6d91f3c1-a6fd-4fe5-d8d3-19089c7998b8"
      },
      "execution_count": 9,
      "outputs": [
        {
          "output_type": "stream",
          "name": "stdout",
          "text": [
            "Accuracy: 0.5175\n"
          ]
        }
      ]
    },
    {
      "cell_type": "code",
      "source": [],
      "metadata": {
        "id": "OZzdSGm5SkjB"
      },
      "execution_count": null,
      "outputs": []
    }
  ]
}